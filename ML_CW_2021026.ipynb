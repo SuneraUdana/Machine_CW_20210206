{
 "cells": [
  {
   "cell_type": "code",
   "execution_count": null,
   "metadata": {
    "collapsed": true
   },
   "outputs": [],
   "source": [
    "# Importing the libraries\n",
    "import numpy as np\n",
    "import matplotlib.pyplot as plt\n",
    "import pandas as pd"
   ]
  },
  {
   "cell_type": "code",
   "execution_count": null,
   "outputs": [],
   "source": [
    "# Importing the dataset\n",
    "dataset = pd.read_csv('spambase.csv')\n",
    "dataset\n"
   ],
   "metadata": {
    "collapsed": false
   }
  },
  {
   "cell_type": "code",
   "execution_count": null,
   "outputs": [],
   "source": [
    "# check for missing values\n",
    "if dataset.isnull().values.any():\n",
    "    # drop rows containing missing values\n",
    "    num_missing = dataset.isnull().sum().sum()\n",
    "    data = dataset.dropna()\n",
    "    # check for and drop duplicated rows\n",
    "    num_duplicates = data.duplicated().sum()\n",
    "    data = data.drop_duplicates()\n",
    "    # print results\n",
    "    print(f\"Dropped {num_missing} rows containing missing values.\")\n",
    "    print(f\"Dropped {num_duplicates} duplicated rows.\")\n",
    "else:\n",
    "    # check for and drop duplicated rows\n",
    "    num_duplicates = dataset.duplicated().sum()\n",
    "    data = dataset.drop_duplicates()\n",
    "    # print results\n",
    "    print(f\"Dropped {num_duplicates} duplicated rows.\")\n"
   ],
   "metadata": {
    "collapsed": false
   }
  },
  {
   "cell_type": "code",
   "execution_count": null,
   "outputs": [],
   "source": [],
   "metadata": {
    "collapsed": false
   }
  }
 ],
 "metadata": {
  "kernelspec": {
   "display_name": "Python 3",
   "language": "python",
   "name": "python3"
  },
  "language_info": {
   "codemirror_mode": {
    "name": "ipython",
    "version": 2
   },
   "file_extension": ".py",
   "mimetype": "text/x-python",
   "name": "python",
   "nbconvert_exporter": "python",
   "pygments_lexer": "ipython2",
   "version": "2.7.6"
  }
 },
 "nbformat": 4,
 "nbformat_minor": 0
}
