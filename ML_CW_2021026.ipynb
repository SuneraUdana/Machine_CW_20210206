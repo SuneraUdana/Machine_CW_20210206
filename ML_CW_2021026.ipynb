{
 "cells": [
  {
   "cell_type": "code",
   "execution_count": 713,
   "metadata": {},
   "outputs": [],
   "source": [
    "# Importing the libraries\n",
    "from sklearn.tree import DecisionTreeClassifier\n",
    "from sklearn.metrics import confusion_matrix\n",
    "from sklearn.preprocessing import StandardScaler\n",
    "from sklearn.neighbors import KNeighborsClassifier\n",
    "from sklearn.metrics import accuracy_score, precision_score,f1_score,recall_score\n",
    "from sklearn.model_selection import train_test_split\n",
    "import pandas as pd\n",
    "import seaborn as sns\n",
    "import numpy as np"
   ]
  },
  {
   "cell_type": "code",
   "execution_count": 714,
   "metadata": {},
   "outputs": [
    {
     "data": {
      "text/plain": "                 0         0.64       0.64.1          0.1         0.32  \\\ncount  4600.000000  4600.000000  4600.000000  4600.000000  4600.000000   \nmean      0.104576     0.212922     0.280578     0.065439     0.312222   \nstd       0.305387     1.290700     0.504170     1.395303     0.672586   \nmin       0.000000     0.000000     0.000000     0.000000     0.000000   \n25%       0.000000     0.000000     0.000000     0.000000     0.000000   \n50%       0.000000     0.000000     0.000000     0.000000     0.000000   \n75%       0.000000     0.000000     0.420000     0.000000     0.382500   \nmax       4.540000    14.280000     5.100000    42.810000    10.000000   \n\n               0.2          0.3          0.4          0.5          0.6  ...  \\\ncount  4600.000000  4600.000000  4600.000000  4600.000000  4600.000000  ...   \nmean      0.095922     0.114233     0.105317     0.090087     0.239465  ...   \nstd       0.273850     0.391480     0.401112     0.278643     0.644816  ...   \nmin       0.000000     0.000000     0.000000     0.000000     0.000000  ...   \n25%       0.000000     0.000000     0.000000     0.000000     0.000000  ...   \n50%       0.000000     0.000000     0.000000     0.000000     0.000000  ...   \n75%       0.000000     0.000000     0.000000     0.000000     0.160000  ...   \nmax       5.880000     7.270000    11.110000     5.260000    18.180000  ...   \n\n              0.40         0.41         0.42        0.778         0.43  \\\ncount  4600.000000  4600.000000  4600.000000  4600.000000  4600.000000   \nmean      0.038583     0.139061     0.016980     0.268960     0.075827   \nstd       0.243497     0.270377     0.109406     0.815726     0.245906   \nmin       0.000000     0.000000     0.000000     0.000000     0.000000   \n25%       0.000000     0.000000     0.000000     0.000000     0.000000   \n50%       0.000000     0.065000     0.000000     0.000000     0.000000   \n75%       0.000000     0.188000     0.000000     0.314250     0.052000   \nmax       4.385000     9.752000     4.081000    32.478000     6.003000   \n\n              0.44        3.756           61           278            1  \ncount  4600.000000  4600.000000  4600.000000   4600.000000  4600.000000  \nmean      0.044248     5.191827    52.170870    283.290435     0.393913  \nstd       0.429388    31.732891   194.912453    606.413764     0.488669  \nmin       0.000000     1.000000     1.000000      1.000000     0.000000  \n25%       0.000000     1.588000     6.000000     35.000000     0.000000  \n50%       0.000000     2.275500    15.000000     95.000000     0.000000  \n75%       0.000000     3.705250    43.000000    265.250000     1.000000  \nmax      19.829000  1102.500000  9989.000000  15841.000000     1.000000  \n\n[8 rows x 58 columns]",
      "text/html": "<div>\n<style scoped>\n    .dataframe tbody tr th:only-of-type {\n        vertical-align: middle;\n    }\n\n    .dataframe tbody tr th {\n        vertical-align: top;\n    }\n\n    .dataframe thead th {\n        text-align: right;\n    }\n</style>\n<table border=\"1\" class=\"dataframe\">\n  <thead>\n    <tr style=\"text-align: right;\">\n      <th></th>\n      <th>0</th>\n      <th>0.64</th>\n      <th>0.64.1</th>\n      <th>0.1</th>\n      <th>0.32</th>\n      <th>0.2</th>\n      <th>0.3</th>\n      <th>0.4</th>\n      <th>0.5</th>\n      <th>0.6</th>\n      <th>...</th>\n      <th>0.40</th>\n      <th>0.41</th>\n      <th>0.42</th>\n      <th>0.778</th>\n      <th>0.43</th>\n      <th>0.44</th>\n      <th>3.756</th>\n      <th>61</th>\n      <th>278</th>\n      <th>1</th>\n    </tr>\n  </thead>\n  <tbody>\n    <tr>\n      <th>count</th>\n      <td>4600.000000</td>\n      <td>4600.000000</td>\n      <td>4600.000000</td>\n      <td>4600.000000</td>\n      <td>4600.000000</td>\n      <td>4600.000000</td>\n      <td>4600.000000</td>\n      <td>4600.000000</td>\n      <td>4600.000000</td>\n      <td>4600.000000</td>\n      <td>...</td>\n      <td>4600.000000</td>\n      <td>4600.000000</td>\n      <td>4600.000000</td>\n      <td>4600.000000</td>\n      <td>4600.000000</td>\n      <td>4600.000000</td>\n      <td>4600.000000</td>\n      <td>4600.000000</td>\n      <td>4600.000000</td>\n      <td>4600.000000</td>\n    </tr>\n    <tr>\n      <th>mean</th>\n      <td>0.104576</td>\n      <td>0.212922</td>\n      <td>0.280578</td>\n      <td>0.065439</td>\n      <td>0.312222</td>\n      <td>0.095922</td>\n      <td>0.114233</td>\n      <td>0.105317</td>\n      <td>0.090087</td>\n      <td>0.239465</td>\n      <td>...</td>\n      <td>0.038583</td>\n      <td>0.139061</td>\n      <td>0.016980</td>\n      <td>0.268960</td>\n      <td>0.075827</td>\n      <td>0.044248</td>\n      <td>5.191827</td>\n      <td>52.170870</td>\n      <td>283.290435</td>\n      <td>0.393913</td>\n    </tr>\n    <tr>\n      <th>std</th>\n      <td>0.305387</td>\n      <td>1.290700</td>\n      <td>0.504170</td>\n      <td>1.395303</td>\n      <td>0.672586</td>\n      <td>0.273850</td>\n      <td>0.391480</td>\n      <td>0.401112</td>\n      <td>0.278643</td>\n      <td>0.644816</td>\n      <td>...</td>\n      <td>0.243497</td>\n      <td>0.270377</td>\n      <td>0.109406</td>\n      <td>0.815726</td>\n      <td>0.245906</td>\n      <td>0.429388</td>\n      <td>31.732891</td>\n      <td>194.912453</td>\n      <td>606.413764</td>\n      <td>0.488669</td>\n    </tr>\n    <tr>\n      <th>min</th>\n      <td>0.000000</td>\n      <td>0.000000</td>\n      <td>0.000000</td>\n      <td>0.000000</td>\n      <td>0.000000</td>\n      <td>0.000000</td>\n      <td>0.000000</td>\n      <td>0.000000</td>\n      <td>0.000000</td>\n      <td>0.000000</td>\n      <td>...</td>\n      <td>0.000000</td>\n      <td>0.000000</td>\n      <td>0.000000</td>\n      <td>0.000000</td>\n      <td>0.000000</td>\n      <td>0.000000</td>\n      <td>1.000000</td>\n      <td>1.000000</td>\n      <td>1.000000</td>\n      <td>0.000000</td>\n    </tr>\n    <tr>\n      <th>25%</th>\n      <td>0.000000</td>\n      <td>0.000000</td>\n      <td>0.000000</td>\n      <td>0.000000</td>\n      <td>0.000000</td>\n      <td>0.000000</td>\n      <td>0.000000</td>\n      <td>0.000000</td>\n      <td>0.000000</td>\n      <td>0.000000</td>\n      <td>...</td>\n      <td>0.000000</td>\n      <td>0.000000</td>\n      <td>0.000000</td>\n      <td>0.000000</td>\n      <td>0.000000</td>\n      <td>0.000000</td>\n      <td>1.588000</td>\n      <td>6.000000</td>\n      <td>35.000000</td>\n      <td>0.000000</td>\n    </tr>\n    <tr>\n      <th>50%</th>\n      <td>0.000000</td>\n      <td>0.000000</td>\n      <td>0.000000</td>\n      <td>0.000000</td>\n      <td>0.000000</td>\n      <td>0.000000</td>\n      <td>0.000000</td>\n      <td>0.000000</td>\n      <td>0.000000</td>\n      <td>0.000000</td>\n      <td>...</td>\n      <td>0.000000</td>\n      <td>0.065000</td>\n      <td>0.000000</td>\n      <td>0.000000</td>\n      <td>0.000000</td>\n      <td>0.000000</td>\n      <td>2.275500</td>\n      <td>15.000000</td>\n      <td>95.000000</td>\n      <td>0.000000</td>\n    </tr>\n    <tr>\n      <th>75%</th>\n      <td>0.000000</td>\n      <td>0.000000</td>\n      <td>0.420000</td>\n      <td>0.000000</td>\n      <td>0.382500</td>\n      <td>0.000000</td>\n      <td>0.000000</td>\n      <td>0.000000</td>\n      <td>0.000000</td>\n      <td>0.160000</td>\n      <td>...</td>\n      <td>0.000000</td>\n      <td>0.188000</td>\n      <td>0.000000</td>\n      <td>0.314250</td>\n      <td>0.052000</td>\n      <td>0.000000</td>\n      <td>3.705250</td>\n      <td>43.000000</td>\n      <td>265.250000</td>\n      <td>1.000000</td>\n    </tr>\n    <tr>\n      <th>max</th>\n      <td>4.540000</td>\n      <td>14.280000</td>\n      <td>5.100000</td>\n      <td>42.810000</td>\n      <td>10.000000</td>\n      <td>5.880000</td>\n      <td>7.270000</td>\n      <td>11.110000</td>\n      <td>5.260000</td>\n      <td>18.180000</td>\n      <td>...</td>\n      <td>4.385000</td>\n      <td>9.752000</td>\n      <td>4.081000</td>\n      <td>32.478000</td>\n      <td>6.003000</td>\n      <td>19.829000</td>\n      <td>1102.500000</td>\n      <td>9989.000000</td>\n      <td>15841.000000</td>\n      <td>1.000000</td>\n    </tr>\n  </tbody>\n</table>\n<p>8 rows × 58 columns</p>\n</div>"
     },
     "execution_count": 714,
     "metadata": {},
     "output_type": "execute_result"
    }
   ],
   "source": [
    "# Importing the dataset\n",
    "dataset = pd.read_csv('spambase.csv')\n",
    "dataset.describe()"
   ]
  },
  {
   "cell_type": "code",
   "execution_count": 715,
   "metadata": {},
   "outputs": [
    {
     "data": {
      "text/plain": "      0  0.64  0.64.1  0.1  0.32   0.2   0.3   0.4   0.5   0.6  ...  0.40  \\\n0  0.21  0.28    0.50  0.0  0.14  0.28  0.21  0.07  0.00  0.94  ...  0.00   \n1  0.06  0.00    0.71  0.0  1.23  0.19  0.19  0.12  0.64  0.25  ...  0.01   \n2  0.00  0.00    0.00  0.0  0.63  0.00  0.31  0.63  0.31  0.63  ...  0.00   \n3  0.00  0.00    0.00  0.0  0.63  0.00  0.31  0.63  0.31  0.63  ...  0.00   \n4  0.00  0.00    0.00  0.0  1.85  0.00  0.00  1.85  0.00  0.00  ...  0.00   \n\n    0.41  0.42  0.778   0.43   0.44  3.756   61   278  1  \n0  0.132   0.0  0.372  0.180  0.048  5.114  101  1028  1  \n1  0.143   0.0  0.276  0.184  0.010  9.821  485  2259  1  \n2  0.137   0.0  0.137  0.000  0.000  3.537   40   191  1  \n3  0.135   0.0  0.135  0.000  0.000  3.537   40   191  1  \n4  0.223   0.0  0.000  0.000  0.000  3.000   15    54  1  \n\n[5 rows x 58 columns]",
      "text/html": "<div>\n<style scoped>\n    .dataframe tbody tr th:only-of-type {\n        vertical-align: middle;\n    }\n\n    .dataframe tbody tr th {\n        vertical-align: top;\n    }\n\n    .dataframe thead th {\n        text-align: right;\n    }\n</style>\n<table border=\"1\" class=\"dataframe\">\n  <thead>\n    <tr style=\"text-align: right;\">\n      <th></th>\n      <th>0</th>\n      <th>0.64</th>\n      <th>0.64.1</th>\n      <th>0.1</th>\n      <th>0.32</th>\n      <th>0.2</th>\n      <th>0.3</th>\n      <th>0.4</th>\n      <th>0.5</th>\n      <th>0.6</th>\n      <th>...</th>\n      <th>0.40</th>\n      <th>0.41</th>\n      <th>0.42</th>\n      <th>0.778</th>\n      <th>0.43</th>\n      <th>0.44</th>\n      <th>3.756</th>\n      <th>61</th>\n      <th>278</th>\n      <th>1</th>\n    </tr>\n  </thead>\n  <tbody>\n    <tr>\n      <th>0</th>\n      <td>0.21</td>\n      <td>0.28</td>\n      <td>0.50</td>\n      <td>0.0</td>\n      <td>0.14</td>\n      <td>0.28</td>\n      <td>0.21</td>\n      <td>0.07</td>\n      <td>0.00</td>\n      <td>0.94</td>\n      <td>...</td>\n      <td>0.00</td>\n      <td>0.132</td>\n      <td>0.0</td>\n      <td>0.372</td>\n      <td>0.180</td>\n      <td>0.048</td>\n      <td>5.114</td>\n      <td>101</td>\n      <td>1028</td>\n      <td>1</td>\n    </tr>\n    <tr>\n      <th>1</th>\n      <td>0.06</td>\n      <td>0.00</td>\n      <td>0.71</td>\n      <td>0.0</td>\n      <td>1.23</td>\n      <td>0.19</td>\n      <td>0.19</td>\n      <td>0.12</td>\n      <td>0.64</td>\n      <td>0.25</td>\n      <td>...</td>\n      <td>0.01</td>\n      <td>0.143</td>\n      <td>0.0</td>\n      <td>0.276</td>\n      <td>0.184</td>\n      <td>0.010</td>\n      <td>9.821</td>\n      <td>485</td>\n      <td>2259</td>\n      <td>1</td>\n    </tr>\n    <tr>\n      <th>2</th>\n      <td>0.00</td>\n      <td>0.00</td>\n      <td>0.00</td>\n      <td>0.0</td>\n      <td>0.63</td>\n      <td>0.00</td>\n      <td>0.31</td>\n      <td>0.63</td>\n      <td>0.31</td>\n      <td>0.63</td>\n      <td>...</td>\n      <td>0.00</td>\n      <td>0.137</td>\n      <td>0.0</td>\n      <td>0.137</td>\n      <td>0.000</td>\n      <td>0.000</td>\n      <td>3.537</td>\n      <td>40</td>\n      <td>191</td>\n      <td>1</td>\n    </tr>\n    <tr>\n      <th>3</th>\n      <td>0.00</td>\n      <td>0.00</td>\n      <td>0.00</td>\n      <td>0.0</td>\n      <td>0.63</td>\n      <td>0.00</td>\n      <td>0.31</td>\n      <td>0.63</td>\n      <td>0.31</td>\n      <td>0.63</td>\n      <td>...</td>\n      <td>0.00</td>\n      <td>0.135</td>\n      <td>0.0</td>\n      <td>0.135</td>\n      <td>0.000</td>\n      <td>0.000</td>\n      <td>3.537</td>\n      <td>40</td>\n      <td>191</td>\n      <td>1</td>\n    </tr>\n    <tr>\n      <th>4</th>\n      <td>0.00</td>\n      <td>0.00</td>\n      <td>0.00</td>\n      <td>0.0</td>\n      <td>1.85</td>\n      <td>0.00</td>\n      <td>0.00</td>\n      <td>1.85</td>\n      <td>0.00</td>\n      <td>0.00</td>\n      <td>...</td>\n      <td>0.00</td>\n      <td>0.223</td>\n      <td>0.0</td>\n      <td>0.000</td>\n      <td>0.000</td>\n      <td>0.000</td>\n      <td>3.000</td>\n      <td>15</td>\n      <td>54</td>\n      <td>1</td>\n    </tr>\n  </tbody>\n</table>\n<p>5 rows × 58 columns</p>\n</div>"
     },
     "execution_count": 715,
     "metadata": {},
     "output_type": "execute_result"
    }
   ],
   "source": [
    "dataset.head(5)"
   ]
  },
  {
   "cell_type": "code",
   "execution_count": 716,
   "outputs": [
    {
     "name": "stdout",
     "output_type": "stream",
     "text": [
      "         0  0.64  0.64.1  0.1  0.32   0.2   0.3   0.4   0.5   0.6  ...   0.40  \\\n",
      "0     0.21  0.28    0.50  0.0  0.14  0.28  0.21  0.07  0.00  0.94  ...  0.000   \n",
      "1     0.06  0.00    0.71  0.0  1.23  0.19  0.19  0.12  0.64  0.25  ...  0.010   \n",
      "2     0.00  0.00    0.00  0.0  0.63  0.00  0.31  0.63  0.31  0.63  ...  0.000   \n",
      "3     0.00  0.00    0.00  0.0  0.63  0.00  0.31  0.63  0.31  0.63  ...  0.000   \n",
      "4     0.00  0.00    0.00  0.0  1.85  0.00  0.00  1.85  0.00  0.00  ...  0.000   \n",
      "...    ...   ...     ...  ...   ...   ...   ...   ...   ...   ...  ...    ...   \n",
      "4595  0.31  0.00    0.62  0.0  0.00  0.31  0.00  0.00  0.00  0.00  ...  0.000   \n",
      "4596  0.00  0.00    0.00  0.0  0.00  0.00  0.00  0.00  0.00  0.00  ...  0.000   \n",
      "4597  0.30  0.00    0.30  0.0  0.00  0.00  0.00  0.00  0.00  0.00  ...  0.102   \n",
      "4598  0.96  0.00    0.00  0.0  0.32  0.00  0.00  0.00  0.00  0.00  ...  0.000   \n",
      "4599  0.00  0.00    0.65  0.0  0.00  0.00  0.00  0.00  0.00  0.00  ...  0.000   \n",
      "\n",
      "       0.41  0.42  0.778   0.43   0.44  3.756   61   278  1  \n",
      "0     0.132   0.0  0.372  0.180  0.048  5.114  101  1028  1  \n",
      "1     0.143   0.0  0.276  0.184  0.010  9.821  485  2259  1  \n",
      "2     0.137   0.0  0.137  0.000  0.000  3.537   40   191  1  \n",
      "3     0.135   0.0  0.135  0.000  0.000  3.537   40   191  1  \n",
      "4     0.223   0.0  0.000  0.000  0.000  3.000   15    54  1  \n",
      "...     ...   ...    ...    ...    ...    ...  ...   ... ..  \n",
      "4595  0.232   0.0  0.000  0.000  0.000  1.142    3    88  0  \n",
      "4596  0.000   0.0  0.353  0.000  0.000  1.555    4    14  0  \n",
      "4597  0.718   0.0  0.000  0.000  0.000  1.404    6   118  0  \n",
      "4598  0.057   0.0  0.000  0.000  0.000  1.147    5    78  0  \n",
      "4599  0.000   0.0  0.125  0.000  0.000  1.250    5    40  0  \n",
      "\n",
      "[4600 rows x 58 columns]\n"
     ]
    }
   ],
   "source": [
    "dataset.duplicated()\n",
    "print(dataset)"
   ],
   "metadata": {
    "collapsed": false
   }
  },
  {
   "cell_type": "markdown",
   "source": [
    "## Identifying and Cleaning Duplicated Data"
   ],
   "metadata": {
    "collapsed": false
   }
  },
  {
   "cell_type": "code",
   "execution_count": 717,
   "outputs": [
    {
     "name": "stdout",
     "output_type": "stream",
     "text": [
      "0         0\n",
      "0.64      0\n",
      "0.64.1    0\n",
      "0.1       0\n",
      "0.32      0\n",
      "0.2       0\n",
      "0.3       0\n",
      "0.4       0\n",
      "0.5       0\n",
      "0.6       0\n",
      "0.7       0\n",
      "0.64.2    0\n",
      "0.8       0\n",
      "0.9       0\n",
      "0.10      0\n",
      "0.32.1    0\n",
      "0.11      0\n",
      "1.29      0\n",
      "1.93      0\n",
      "0.12      0\n",
      "0.96      0\n",
      "0.13      0\n",
      "0.14      0\n",
      "0.15      0\n",
      "0.16      0\n",
      "0.17      0\n",
      "0.18      0\n",
      "0.19      0\n",
      "0.20      0\n",
      "0.21      0\n",
      "0.22      0\n",
      "0.23      0\n",
      "0.24      0\n",
      "0.25      0\n",
      "0.26      0\n",
      "0.27      0\n",
      "0.28      0\n",
      "0.29      0\n",
      "0.30      0\n",
      "0.31      0\n",
      "0.32.2    0\n",
      "0.33      0\n",
      "0.34      0\n",
      "0.35      0\n",
      "0.36      0\n",
      "0.37      0\n",
      "0.38      0\n",
      "0.39      0\n",
      "0.40      0\n",
      "0.41      0\n",
      "0.42      0\n",
      "0.778     0\n",
      "0.43      0\n",
      "0.44      0\n",
      "3.756     0\n",
      "61        0\n",
      "278       0\n",
      "1         0\n",
      "dtype: int64 \n",
      "\n",
      "391\n",
      "\n"
     ]
    }
   ],
   "source": [
    "print(dataset.isnull().sum(),\"\\n\")\n",
    "data = dataset.dropna()\n",
    "\n",
    "print(data.duplicated().sum())\n",
    "\n",
    "data = data.drop_duplicates()\n",
    "print()"
   ],
   "metadata": {
    "collapsed": false
   }
  },
  {
   "cell_type": "markdown",
   "source": [],
   "metadata": {
    "collapsed": false
   }
  },
  {
   "cell_type": "code",
   "execution_count": 718,
   "metadata": {},
   "outputs": [],
   "source": [
    "# separating the independent variables (features) and dependent variable (target) from a dataset\n",
    "X = dataset.iloc[:, :-1]# select all rows and all columns except the last one\n",
    "y = dataset.iloc[:, -1] # select all rows and the last column"
   ]
  },
  {
   "cell_type": "code",
   "execution_count": 719,
   "metadata": {},
   "outputs": [
    {
     "data": {
      "text/plain": "         0  0.64  0.64.1  0.1  0.32   0.2   0.3   0.4   0.5   0.6  ...  0.39  \\\n0     0.21  0.28    0.50  0.0  0.14  0.28  0.21  0.07  0.00  0.94  ...   0.0   \n1     0.06  0.00    0.71  0.0  1.23  0.19  0.19  0.12  0.64  0.25  ...   0.0   \n2     0.00  0.00    0.00  0.0  0.63  0.00  0.31  0.63  0.31  0.63  ...   0.0   \n3     0.00  0.00    0.00  0.0  0.63  0.00  0.31  0.63  0.31  0.63  ...   0.0   \n4     0.00  0.00    0.00  0.0  1.85  0.00  0.00  1.85  0.00  0.00  ...   0.0   \n...    ...   ...     ...  ...   ...   ...   ...   ...   ...   ...  ...   ...   \n4595  0.31  0.00    0.62  0.0  0.00  0.31  0.00  0.00  0.00  0.00  ...   0.0   \n4596  0.00  0.00    0.00  0.0  0.00  0.00  0.00  0.00  0.00  0.00  ...   0.0   \n4597  0.30  0.00    0.30  0.0  0.00  0.00  0.00  0.00  0.00  0.00  ...   0.0   \n4598  0.96  0.00    0.00  0.0  0.32  0.00  0.00  0.00  0.00  0.00  ...   0.0   \n4599  0.00  0.00    0.65  0.0  0.00  0.00  0.00  0.00  0.00  0.00  ...   0.0   \n\n       0.40   0.41  0.42  0.778   0.43   0.44  3.756   61   278  \n0     0.000  0.132   0.0  0.372  0.180  0.048  5.114  101  1028  \n1     0.010  0.143   0.0  0.276  0.184  0.010  9.821  485  2259  \n2     0.000  0.137   0.0  0.137  0.000  0.000  3.537   40   191  \n3     0.000  0.135   0.0  0.135  0.000  0.000  3.537   40   191  \n4     0.000  0.223   0.0  0.000  0.000  0.000  3.000   15    54  \n...     ...    ...   ...    ...    ...    ...    ...  ...   ...  \n4595  0.000  0.232   0.0  0.000  0.000  0.000  1.142    3    88  \n4596  0.000  0.000   0.0  0.353  0.000  0.000  1.555    4    14  \n4597  0.102  0.718   0.0  0.000  0.000  0.000  1.404    6   118  \n4598  0.000  0.057   0.0  0.000  0.000  0.000  1.147    5    78  \n4599  0.000  0.000   0.0  0.125  0.000  0.000  1.250    5    40  \n\n[4600 rows x 57 columns]",
      "text/html": "<div>\n<style scoped>\n    .dataframe tbody tr th:only-of-type {\n        vertical-align: middle;\n    }\n\n    .dataframe tbody tr th {\n        vertical-align: top;\n    }\n\n    .dataframe thead th {\n        text-align: right;\n    }\n</style>\n<table border=\"1\" class=\"dataframe\">\n  <thead>\n    <tr style=\"text-align: right;\">\n      <th></th>\n      <th>0</th>\n      <th>0.64</th>\n      <th>0.64.1</th>\n      <th>0.1</th>\n      <th>0.32</th>\n      <th>0.2</th>\n      <th>0.3</th>\n      <th>0.4</th>\n      <th>0.5</th>\n      <th>0.6</th>\n      <th>...</th>\n      <th>0.39</th>\n      <th>0.40</th>\n      <th>0.41</th>\n      <th>0.42</th>\n      <th>0.778</th>\n      <th>0.43</th>\n      <th>0.44</th>\n      <th>3.756</th>\n      <th>61</th>\n      <th>278</th>\n    </tr>\n  </thead>\n  <tbody>\n    <tr>\n      <th>0</th>\n      <td>0.21</td>\n      <td>0.28</td>\n      <td>0.50</td>\n      <td>0.0</td>\n      <td>0.14</td>\n      <td>0.28</td>\n      <td>0.21</td>\n      <td>0.07</td>\n      <td>0.00</td>\n      <td>0.94</td>\n      <td>...</td>\n      <td>0.0</td>\n      <td>0.000</td>\n      <td>0.132</td>\n      <td>0.0</td>\n      <td>0.372</td>\n      <td>0.180</td>\n      <td>0.048</td>\n      <td>5.114</td>\n      <td>101</td>\n      <td>1028</td>\n    </tr>\n    <tr>\n      <th>1</th>\n      <td>0.06</td>\n      <td>0.00</td>\n      <td>0.71</td>\n      <td>0.0</td>\n      <td>1.23</td>\n      <td>0.19</td>\n      <td>0.19</td>\n      <td>0.12</td>\n      <td>0.64</td>\n      <td>0.25</td>\n      <td>...</td>\n      <td>0.0</td>\n      <td>0.010</td>\n      <td>0.143</td>\n      <td>0.0</td>\n      <td>0.276</td>\n      <td>0.184</td>\n      <td>0.010</td>\n      <td>9.821</td>\n      <td>485</td>\n      <td>2259</td>\n    </tr>\n    <tr>\n      <th>2</th>\n      <td>0.00</td>\n      <td>0.00</td>\n      <td>0.00</td>\n      <td>0.0</td>\n      <td>0.63</td>\n      <td>0.00</td>\n      <td>0.31</td>\n      <td>0.63</td>\n      <td>0.31</td>\n      <td>0.63</td>\n      <td>...</td>\n      <td>0.0</td>\n      <td>0.000</td>\n      <td>0.137</td>\n      <td>0.0</td>\n      <td>0.137</td>\n      <td>0.000</td>\n      <td>0.000</td>\n      <td>3.537</td>\n      <td>40</td>\n      <td>191</td>\n    </tr>\n    <tr>\n      <th>3</th>\n      <td>0.00</td>\n      <td>0.00</td>\n      <td>0.00</td>\n      <td>0.0</td>\n      <td>0.63</td>\n      <td>0.00</td>\n      <td>0.31</td>\n      <td>0.63</td>\n      <td>0.31</td>\n      <td>0.63</td>\n      <td>...</td>\n      <td>0.0</td>\n      <td>0.000</td>\n      <td>0.135</td>\n      <td>0.0</td>\n      <td>0.135</td>\n      <td>0.000</td>\n      <td>0.000</td>\n      <td>3.537</td>\n      <td>40</td>\n      <td>191</td>\n    </tr>\n    <tr>\n      <th>4</th>\n      <td>0.00</td>\n      <td>0.00</td>\n      <td>0.00</td>\n      <td>0.0</td>\n      <td>1.85</td>\n      <td>0.00</td>\n      <td>0.00</td>\n      <td>1.85</td>\n      <td>0.00</td>\n      <td>0.00</td>\n      <td>...</td>\n      <td>0.0</td>\n      <td>0.000</td>\n      <td>0.223</td>\n      <td>0.0</td>\n      <td>0.000</td>\n      <td>0.000</td>\n      <td>0.000</td>\n      <td>3.000</td>\n      <td>15</td>\n      <td>54</td>\n    </tr>\n    <tr>\n      <th>...</th>\n      <td>...</td>\n      <td>...</td>\n      <td>...</td>\n      <td>...</td>\n      <td>...</td>\n      <td>...</td>\n      <td>...</td>\n      <td>...</td>\n      <td>...</td>\n      <td>...</td>\n      <td>...</td>\n      <td>...</td>\n      <td>...</td>\n      <td>...</td>\n      <td>...</td>\n      <td>...</td>\n      <td>...</td>\n      <td>...</td>\n      <td>...</td>\n      <td>...</td>\n      <td>...</td>\n    </tr>\n    <tr>\n      <th>4595</th>\n      <td>0.31</td>\n      <td>0.00</td>\n      <td>0.62</td>\n      <td>0.0</td>\n      <td>0.00</td>\n      <td>0.31</td>\n      <td>0.00</td>\n      <td>0.00</td>\n      <td>0.00</td>\n      <td>0.00</td>\n      <td>...</td>\n      <td>0.0</td>\n      <td>0.000</td>\n      <td>0.232</td>\n      <td>0.0</td>\n      <td>0.000</td>\n      <td>0.000</td>\n      <td>0.000</td>\n      <td>1.142</td>\n      <td>3</td>\n      <td>88</td>\n    </tr>\n    <tr>\n      <th>4596</th>\n      <td>0.00</td>\n      <td>0.00</td>\n      <td>0.00</td>\n      <td>0.0</td>\n      <td>0.00</td>\n      <td>0.00</td>\n      <td>0.00</td>\n      <td>0.00</td>\n      <td>0.00</td>\n      <td>0.00</td>\n      <td>...</td>\n      <td>0.0</td>\n      <td>0.000</td>\n      <td>0.000</td>\n      <td>0.0</td>\n      <td>0.353</td>\n      <td>0.000</td>\n      <td>0.000</td>\n      <td>1.555</td>\n      <td>4</td>\n      <td>14</td>\n    </tr>\n    <tr>\n      <th>4597</th>\n      <td>0.30</td>\n      <td>0.00</td>\n      <td>0.30</td>\n      <td>0.0</td>\n      <td>0.00</td>\n      <td>0.00</td>\n      <td>0.00</td>\n      <td>0.00</td>\n      <td>0.00</td>\n      <td>0.00</td>\n      <td>...</td>\n      <td>0.0</td>\n      <td>0.102</td>\n      <td>0.718</td>\n      <td>0.0</td>\n      <td>0.000</td>\n      <td>0.000</td>\n      <td>0.000</td>\n      <td>1.404</td>\n      <td>6</td>\n      <td>118</td>\n    </tr>\n    <tr>\n      <th>4598</th>\n      <td>0.96</td>\n      <td>0.00</td>\n      <td>0.00</td>\n      <td>0.0</td>\n      <td>0.32</td>\n      <td>0.00</td>\n      <td>0.00</td>\n      <td>0.00</td>\n      <td>0.00</td>\n      <td>0.00</td>\n      <td>...</td>\n      <td>0.0</td>\n      <td>0.000</td>\n      <td>0.057</td>\n      <td>0.0</td>\n      <td>0.000</td>\n      <td>0.000</td>\n      <td>0.000</td>\n      <td>1.147</td>\n      <td>5</td>\n      <td>78</td>\n    </tr>\n    <tr>\n      <th>4599</th>\n      <td>0.00</td>\n      <td>0.00</td>\n      <td>0.65</td>\n      <td>0.0</td>\n      <td>0.00</td>\n      <td>0.00</td>\n      <td>0.00</td>\n      <td>0.00</td>\n      <td>0.00</td>\n      <td>0.00</td>\n      <td>...</td>\n      <td>0.0</td>\n      <td>0.000</td>\n      <td>0.000</td>\n      <td>0.0</td>\n      <td>0.125</td>\n      <td>0.000</td>\n      <td>0.000</td>\n      <td>1.250</td>\n      <td>5</td>\n      <td>40</td>\n    </tr>\n  </tbody>\n</table>\n<p>4600 rows × 57 columns</p>\n</div>"
     },
     "execution_count": 719,
     "metadata": {},
     "output_type": "execute_result"
    }
   ],
   "source": [
    "X"
   ]
  },
  {
   "cell_type": "code",
   "execution_count": 720,
   "metadata": {},
   "outputs": [],
   "source": [
    " # imports the  train_test_split function from scikit-learn\n",
    "# Splits the data into training and testing sets\n",
    "X_train, X_test, y_train, y_test = train_test_split(X, y, test_size=0.2, random_state=1)"
   ]
  },
  {
   "cell_type": "code",
   "execution_count": 721,
   "outputs": [
    {
     "data": {
      "text/plain": "DecisionTreeClassifier()"
     },
     "execution_count": 721,
     "metadata": {},
     "output_type": "execute_result"
    }
   ],
   "source": [
    "from sklearn.tree import DecisionTreeClassifier\n",
    "#generating the  predicted labels for each example in the test set based on the decision tree that fitted to the training data\n",
    "tree_map = DecisionTreeClassifier()\n",
    "tree_map.fit(X_train,y_train)"
   ],
   "metadata": {
    "collapsed": false
   }
  },
  {
   "cell_type": "markdown",
   "source": [
    "## Feature Scaling"
   ],
   "metadata": {
    "collapsed": false
   }
  },
  {
   "cell_type": "code",
   "execution_count": 722,
   "outputs": [
    {
     "name": "stdout",
     "output_type": "stream",
     "text": [
      "[[-0.33869288 -0.16862667  1.30208688 ... -0.11782694 -0.33683972\n",
      "  -0.30431329]\n",
      " [-0.33869288 -0.16862667 -0.56108137 ... -0.12822811 -0.38367339\n",
      "  -0.447789  ]\n",
      " [-0.33869288 -0.16862667 -0.56108137 ... -0.08490071 -0.29000605\n",
      "  -0.44111571]\n",
      " ...\n",
      " [-0.33869288 -0.16862667 -0.56108137 ... -0.04550625 -0.22756115\n",
      "  -0.34602135]\n",
      " [-0.14140126 -0.16862667 -0.19254259 ... -0.09370921 -0.22756115\n",
      "   1.28559771]\n",
      " [-0.33869288 -0.16862667 -0.56108137 ... -0.12488023 -0.36806216\n",
      "  -0.42276417]] [[-0.33869288 -0.16862667  0.52406058 ...  0.00302175  0.0768577\n",
      "  -0.25760027]\n",
      " [-0.33869288 -0.03363077  0.19647056 ... -0.0998199  -0.29000605\n",
      "  -0.05406497]\n",
      " [-0.33869288  1.59381981 -0.56108137 ...  0.00991253 -0.23536677\n",
      "  -0.40608094]\n",
      " ...\n",
      " [-0.33869288 -0.16862667 -0.56108137 ... -0.12822811 -0.38367339\n",
      "  -0.47114551]\n",
      " [-0.33869288 -0.16862667 -0.56108137 ... -0.08964625 -0.35245094\n",
      "  -0.4177592 ]\n",
      " [-0.33869288 -0.16862667 -0.56108137 ... -0.00341398 -0.23536677\n",
      "   0.48480308]]\n"
     ]
    }
   ],
   "source": [
    "#scaling the dataset to a array\n",
    "sc = StandardScaler()\n",
    "X_train = sc.fit_transform(X_train)\n",
    "X_test = sc.transform(X_test)\n",
    "print(X_train,X_test)"
   ],
   "metadata": {
    "collapsed": false
   }
  },
  {
   "cell_type": "markdown",
   "source": [
    "## KNeighboursClassifier"
   ],
   "metadata": {
    "collapsed": false
   }
  },
  {
   "cell_type": "code",
   "execution_count": 723,
   "metadata": {},
   "outputs": [
    {
     "data": {
      "text/plain": "KNeighborsClassifier()"
     },
     "execution_count": 723,
     "metadata": {},
     "output_type": "execute_result"
    }
   ],
   "source": [
    "# Fitting classifier to the Training set\n",
    "classifier = KNeighborsClassifier(n_neighbors=5, metric='minkowski', p=2)\n",
    "classifier.fit(X_train,y_train)"
   ]
  },
  {
   "cell_type": "code",
   "execution_count": 724,
   "metadata": {},
   "outputs": [
    {
     "name": "stdout",
     "output_type": "stream",
     "text": [
      "[1 0 0 0 0 0 0 0 1 1 1 1 1 1 0 0 0 1 0 0 0 0 0 1 1 1 1 0 1 1 0 1 0 0 1 0 0\n",
      " 0 0 0 1 1 1 0 0 0 1 0 0 1 1 0 1 1 1 0 1 0 0 0 1 0 0 0 0 0 1 1 0 0 0 1 0 0\n",
      " 1 1 0 0 1 0 0 1 0 0 1 0 0 0 0 1 0 0 1 0 0 0 0 0 0 0 0 0 1 0 0 0 0 1 0 0 1\n",
      " 0 0 0 1 0 0 0 1 1 0 1 0 0 0 0 0 0 1 0 1 0 1 0 0 0 0 1 1 0 1 0 0 1 0 0 0 0\n",
      " 0 0 0 0 1 0 0 0 1 1 0 0 0 1 1 1 0 1 1 0 1 1 0 1 0 0 0 0 0 0 0 1 1 1 1 0 0\n",
      " 0 0 0 1 0 0 1 0 0 0 0 0 1 1 1 0 0 1 0 0 0 0 0 1 0 1 0 1 0 1 1 1 0 0 0 1 0\n",
      " 0 1 0 1 0 0 0 0 1 1 0 1 0 0 0 0 0 0 1 1 0 0 0 0 1 0 0 0 1 1 0 0 0 0 0 0 0\n",
      " 0 1 1 0 0 0 0 0 1 1 0 1 0 1 0 0 0 1 0 1 0 1 1 1 1 0 1 0 0 1 1 1 1 0 1 1 1\n",
      " 0 1 1 1 0 0 1 0 1 0 0 0 1 0 0 0 0 1 1 1 0 0 0 1 0 1 1 0 0 1 0 0 0 1 0 0 0\n",
      " 0 1 0 1 0 0 1 0 0 0 1 1 0 1 1 0 1 0 0 0 1 0 1 0 1 0 1 0 0 1 1 0 1 1 1 1 0\n",
      " 0 0 0 1 0 1 0 0 0 0 1 1 1 1 1 1 0 0 0 1 0 0 0 1 1 0 0 1 0 1 0 0 0 0 0 0 0\n",
      " 0 1 1 1 0 0 0 0 1 1 1 1 0 0 0 0 0 0 1 0 1 1 0 1 0 1 1 0 1 0 1 0 1 0 0 0 1\n",
      " 0 0 1 0 1 1 0 0 0 0 0 1 0 0 0 0 0 0 0 0 1 0 1 0 1 0 0 0 1 0 0 0 0 0 0 0 0\n",
      " 0 0 0 0 1 0 1 0 1 0 0 0 0 0 0 1 1 1 0 0 0 1 0 1 1 0 0 0 0 0 1 1 0 0 0 0 1\n",
      " 0 0 0 1 0 0 0 1 0 1 0 0 0 0 0 1 0 1 0 0 0 0 0 0 0 0 1 1 0 1 1 1 0 1 0 1 0\n",
      " 1 1 1 0 1 1 1 0 0 1 1 0 0 0 1 0 1 0 0 0 0 1 1 0 0 0 1 0 0 0 0 0 0 0 0 0 0\n",
      " 0 0 0 0 0 0 0 0 0 1 1 0 0 0 0 1 1 0 0 1 0 1 1 0 1 0 1 0 0 0 0 1 1 1 1 1 0\n",
      " 0 1 1 1 0 1 1 0 1 1 0 0 1 1 1 0 0 1 1 0 0 0 0 0 1 0 1 0 1 0 0 1 0 0 0 0 0\n",
      " 0 1 0 0 0 1 0 0 0 0 1 1 0 1 1 0 0 0 0 1 0 1 1 1 1 1 0 1 1 1 0 1 0 0 0 0 0\n",
      " 0 0 1 0 1 0 1 0 0 0 1 0 0 1 0 0 0 0 1 1 0 1 1 0 0 0 0 1 0 1 1 1 1 0 0 0 0\n",
      " 0 0 0 1 1 0 0 1 0 0 1 0 0 1 0 0 0 0 1 1 0 0 1 1 1 1 0 0 1 1 0 0 1 1 0 0 0\n",
      " 0 0 0 1 0 0 0 0 0 0 0 0 1 1 0 1 0 0 1 0 0 1 0 1 0 0 0 1 0 1 0 1 1 1 0 1 0\n",
      " 0 0 0 0 0 0 1 0 1 0 1 0 0 1 1 1 0 0 0 1 0 0 0 1 0 1 1 0 0 1 1 0 1 1 1 0 1\n",
      " 0 1 1 1 1 0 0 1 0 0 0 1 1 0 0 0 0 1 1 1 0 0 1 1 0 0 1 0 0 1 0 0 0 1 1 1 1\n",
      " 1 1 0 0 1 0 0 0 1 1 1 1 1 1 0 0 1 1 0 1 0 0 0 0 1 0 1 0 0 0 0 0]\n"
     ]
    }
   ],
   "source": [
    "# Predicting the Test set results\n",
    "y_pred = classifier.predict(X_test)\n",
    "print(y_pred)"
   ]
  },
  {
   "cell_type": "markdown",
   "source": [
    "## DecisionTree Classifier"
   ],
   "metadata": {
    "collapsed": false
   }
  },
  {
   "cell_type": "code",
   "execution_count": 725,
   "metadata": {},
   "outputs": [
    {
     "data": {
      "text/plain": "DecisionTreeClassifier(max_depth=3)"
     },
     "execution_count": 725,
     "metadata": {},
     "output_type": "execute_result"
    }
   ],
   "source": [
    "#Create a DecisionTreeClassifier object with 3 neighbors\n",
    "# Fit the model to the training data  Make predictions on the test data\n",
    "dt = DecisionTreeClassifier(max_depth=3)\n",
    "dt.fit(X_train, y_train)"
   ]
  },
  {
   "cell_type": "markdown",
   "source": [
    "## KNN model Metrics"
   ],
   "metadata": {
    "collapsed": false
   }
  },
  {
   "cell_type": "code",
   "execution_count": 726,
   "outputs": [
    {
     "name": "stdout",
     "output_type": "stream",
     "text": [
      "Accuracy: 0.9097826086956522\n"
     ]
    }
   ],
   "source": [
    "# Calculate the accuracy of the model on the test data\n",
    "accuracy = accuracy_score(y_test, y_pred)\n",
    "\n",
    "# Print the accuracy\n",
    "print('Accuracy:', accuracy)"
   ],
   "metadata": {
    "collapsed": false
   }
  },
  {
   "cell_type": "code",
   "execution_count": 727,
   "metadata": {},
   "outputs": [],
   "source": [
    "#make predictions on dataset using Kneighbors classifier\n",
    "KNN_model = KNeighborsClassifier(n_neighbors=5)\n",
    "KNN_model.fit(X_train, y_train)\n",
    "KNN_y_pred = KNN_model.predict(X_test)\n",
    "KNN_recall = recall_score(y_test,KNN_y_pred)\n",
    "\n",
    "KNN_precision = precision_score(y_test,KNN_y_pred)\n",
    "KNN_f1 = f1_score(y_test, KNN_y_pred)"
   ]
  },
  {
   "cell_type": "code",
   "execution_count": 728,
   "outputs": [
    {
     "name": "stdout",
     "output_type": "stream",
     "text": [
      "KNN Model Metrics:\n",
      "Precision: 0.8892045454545454\n",
      "recall score:  0.876750700280112\n",
      "F1 Score: 0.8829337094499294\n"
     ]
    }
   ],
   "source": [
    "print(\"KNN Model Metrics:\")\n",
    "print(\"Precision:\", KNN_precision)\n",
    "print(\"recall score: \",KNN_recall)\n",
    "print(\"F1 Score:\", KNN_f1)"
   ],
   "metadata": {
    "collapsed": false
   }
  },
  {
   "cell_type": "code",
   "execution_count": 729,
   "outputs": [
    {
     "name": "stdout",
     "output_type": "stream",
     "text": [
      "[[524  39]\n",
      " [ 44 313]]\n"
     ]
    }
   ],
   "source": [
    "# Make the confusion matrix KNN\n",
    "cm = confusion_matrix(y_test, y_pred)\n",
    "print(cm)"
   ],
   "metadata": {
    "collapsed": false
   }
  },
  {
   "cell_type": "code",
   "execution_count": 730,
   "outputs": [
    {
     "data": {
      "text/plain": "<AxesSubplot:>"
     },
     "execution_count": 730,
     "metadata": {},
     "output_type": "execute_result"
    },
    {
     "data": {
      "text/plain": "<Figure size 640x480 with 2 Axes>",
      "image/png": "[encoded data removed]"
     },
     "metadata": {},
     "output_type": "display_data"
    }
   ],
   "source": [
    "sns.heatmap(cm, annot=True) #representing the confusion matrix"
   ],
   "metadata": {
    "collapsed": false
   }
  },
  {
   "cell_type": "code",
   "execution_count": 731,
   "outputs": [
    {
     "data": {
      "text/plain": "<AxesSubplot:>"
     },
     "execution_count": 731,
     "metadata": {},
     "output_type": "execute_result"
    },
    {
     "data": {
      "text/plain": "<Figure size 640x480 with 2 Axes>",
      "image/png": "[encoded data removed]"
     },
     "metadata": {},
     "output_type": "display_data"
    }
   ],
   "source": [
    "sns.heatmap(cm/np.sum(cm), annot=True,\n",
    "            fmt='.3%', cmap='Blues')"
   ],
   "metadata": {
    "collapsed": false
   }
  },
  {
   "cell_type": "markdown",
   "source": [
    "## Decision Tree Model metrics"
   ],
   "metadata": {
    "collapsed": false
   }
  },
  {
   "cell_type": "code",
   "execution_count": 732,
   "metadata": {},
   "outputs": [],
   "source": [
    "# Import the necessary libraries and modules from scikit-learn\n",
    "# Create an instance of the DecisionTreeClassifier class with a maximum depth of 5 and a random state of 42\n",
    "decisiontree_model = DecisionTreeClassifier(max_depth=5, random_state=43)\n",
    "\n",
    "# Train the decision tree model on the training data\n",
    "decisiontree_model.fit(X_train, y_train)\n",
    "DT_y_pred = decisiontree_model.predict(X_test)\n",
    "\n",
    "# Calculate the accuracy of the model by comparing the predicted labels to the actual labels\n",
    "DT_Accuracy = accuracy_score(y_test,DT_y_pred)\n",
    "DT_precision = precision_score(y_test,DT_y_pred)\n",
    "DT_f1score = f1_score(y_test,DT_y_pred)\n",
    "DT_recall = recall_score(y_test,DT_y_pred)"
   ]
  },
  {
   "cell_type": "code",
   "execution_count": 733,
   "outputs": [
    {
     "name": "stdout",
     "output_type": "stream",
     "text": [
      "Decision Tree Model Metrics:\n",
      "Accuracy: 0.9043478260869565\n",
      "Precision: 0.9088145896656535\n",
      "F1 Score: 0.8717201166180759\n",
      "DT_recall_score :  [1 1 0 0 0 1 0 0 1 1 1 1 1 1 0 0 0 1 1 0 0 0 0 1 1 1 1 0 1 1 0 1 0 0 1 0 0\n",
      " 0 0 0 0 1 1 0 0 0 1 0 0 1 0 0 1 0 1 0 1 0 0 0 1 0 0 0 0 0 1 1 0 0 0 1 0 0\n",
      " 1 1 1 1 1 0 0 1 0 0 0 0 0 0 0 1 0 0 1 0 0 0 0 0 1 1 0 0 1 0 0 0 0 1 0 0 1\n",
      " 0 0 0 1 0 0 0 1 0 0 1 0 0 0 0 1 0 1 0 1 0 1 0 0 0 0 1 1 0 1 1 0 1 0 0 0 0\n",
      " 0 1 0 0 1 0 0 0 1 1 1 0 0 0 1 0 0 0 1 0 1 1 0 1 0 0 0 0 0 0 0 1 1 1 1 0 0\n",
      " 0 1 0 1 0 0 1 0 0 0 0 0 1 1 1 0 1 1 0 0 0 0 0 1 0 1 0 1 0 1 1 1 0 0 0 1 0\n",
      " 0 0 0 1 0 0 0 0 1 0 0 1 0 0 1 0 1 0 1 1 0 1 0 0 1 0 0 0 0 1 0 0 0 0 0 0 0\n",
      " 0 1 1 0 0 0 0 0 1 1 0 1 0 1 0 0 0 1 0 0 0 0 1 1 1 0 0 1 0 0 0 0 1 0 1 1 1\n",
      " 0 1 1 1 0 0 1 0 1 0 0 0 0 0 0 0 0 1 0 1 0 0 0 1 0 1 1 0 0 0 0 0 0 1 0 0 0\n",
      " 0 1 0 0 0 0 1 0 0 0 1 1 0 1 1 0 1 0 0 0 1 0 1 0 1 0 1 0 1 1 0 0 1 1 1 1 0\n",
      " 0 0 0 1 0 0 0 0 0 0 0 1 1 0 1 0 0 0 0 1 0 0 0 1 1 0 0 1 1 1 1 0 0 0 0 0 0\n",
      " 0 1 1 0 1 0 0 0 1 1 1 1 0 0 0 0 0 0 1 0 1 1 0 1 0 1 1 0 1 0 1 0 1 0 0 0 1\n",
      " 0 0 1 0 1 1 0 0 1 0 0 1 0 0 0 0 0 0 0 0 1 0 1 0 1 0 0 0 1 1 0 0 0 0 0 0 0\n",
      " 0 0 0 0 1 0 1 0 0 0 0 0 0 0 0 1 1 1 0 0 1 1 0 1 1 0 1 0 0 0 1 1 0 0 0 0 0\n",
      " 0 0 0 1 0 0 0 1 0 1 0 0 0 0 0 1 1 1 0 0 0 0 0 0 0 0 1 1 0 1 1 1 0 1 0 0 0\n",
      " 1 1 1 0 1 0 0 0 0 1 1 0 0 0 0 0 1 0 0 1 0 1 0 0 0 0 0 0 0 0 0 0 0 0 0 1 0\n",
      " 0 0 0 0 0 0 0 0 0 1 0 0 0 0 0 1 1 0 0 0 0 0 1 0 1 0 1 0 0 0 0 1 1 1 1 1 0\n",
      " 1 0 1 0 0 1 1 1 1 1 0 0 1 1 1 0 1 0 0 0 0 0 0 0 1 0 1 0 1 0 0 1 0 1 0 0 0\n",
      " 0 1 0 0 0 1 0 0 0 0 0 1 0 1 1 0 0 0 0 1 0 0 0 1 1 1 0 0 1 1 1 1 0 0 0 0 0\n",
      " 0 0 1 0 1 0 1 0 0 0 0 0 0 1 0 1 0 1 1 0 0 0 0 0 0 0 0 1 0 1 0 1 1 0 0 0 0\n",
      " 0 0 0 1 1 0 0 1 0 1 1 0 0 1 0 0 0 0 1 0 0 0 1 1 1 1 0 0 1 1 1 0 1 1 0 0 0\n",
      " 0 0 0 0 1 0 0 0 1 0 0 0 0 1 0 0 0 0 1 0 0 0 0 1 0 0 0 0 0 1 0 1 1 1 0 1 0\n",
      " 0 0 0 0 0 1 1 0 1 0 1 0 0 1 1 1 0 0 0 0 0 0 0 1 0 1 1 0 0 1 1 0 1 0 1 0 1\n",
      " 1 1 1 1 0 0 0 1 0 0 0 1 1 0 0 0 0 1 1 0 0 0 1 1 0 0 0 0 0 0 0 0 1 1 1 1 1\n",
      " 1 1 0 0 1 0 0 0 1 1 0 1 1 1 0 0 1 0 0 1 0 0 0 0 1 0 1 0 0 0 0 0]\n"
     ]
    }
   ],
   "source": [
    "# Print out the performance metrics of the decision tree model\n",
    "print(\"Decision Tree Model Metrics:\")\n",
    "print(\"Accuracy:\",DT_Accuracy)\n",
    "print(\"Precision:\",DT_precision)\n",
    "print(\"F1 Score:\",DT_f1score)\n",
    "print(\"DT_recall_score : \",DT_y_pred)"
   ],
   "metadata": {
    "collapsed": false
   }
  },
  {
   "cell_type": "code",
   "execution_count": 734,
   "outputs": [
    {
     "name": "stdout",
     "output_type": "stream",
     "text": [
      "[[524  39]\n",
      " [ 44 313]]\n"
     ]
    }
   ],
   "source": [
    "#confusion matrix dt\n",
    "cm = confusion_matrix(y_test,y_pred)\n",
    "print(cm)"
   ],
   "metadata": {
    "collapsed": false
   }
  },
  {
   "cell_type": "code",
   "execution_count": 735,
   "outputs": [
    {
     "data": {
      "text/plain": "<AxesSubplot:>"
     },
     "execution_count": 735,
     "metadata": {},
     "output_type": "execute_result"
    },
    {
     "data": {
      "text/plain": "<Figure size 640x480 with 2 Axes>",
      "image/png": "[encoded data removed]"
     },
     "metadata": {},
     "output_type": "display_data"
    }
   ],
   "source": [
    "sns.heatmap(cm, annot=True)"
   ],
   "metadata": {
    "collapsed": false
   }
  },
  {
   "cell_type": "code",
   "execution_count": 736,
   "outputs": [
    {
     "data": {
      "text/plain": "<AxesSubplot:>"
     },
     "execution_count": 736,
     "metadata": {},
     "output_type": "execute_result"
    },
    {
     "data": {
      "text/plain": "<Figure size 640x480 with 2 Axes>",
      "image/png": "[encoded data removed]"
     },
     "metadata": {},
     "output_type": "display_data"
    }
   ],
   "source": [
    "sns.heatmap(cm/np.sum(cm), annot=True,\n",
    "            fmt='.3%', cmap='Blues')"
   ],
   "metadata": {
    "collapsed": false
   }
  },
  {
   "cell_type": "markdown",
   "source": [
    "## KNN model evaluation"
   ],
   "metadata": {
    "collapsed": false
   }
  },
  {
   "cell_type": "code",
   "execution_count": 737,
   "outputs": [],
   "source": [
    "#KNN model evaluation\n",
    "#importing metrics from sklearn\n",
    "y_pred_KNN = KNN_model.predict(X_test)\n",
    "accuracy_KNN = accuracy_score(y_test, y_pred_KNN)\n",
    "#precision score calculates the score of the predicted labels\n",
    "precision_KNN = precision_score(y_test, y_pred_KNN)\n",
    "#f1_score calculates the score of the predicted labels\n",
    "f1score_KNN = f1_score(y_test, y_pred_KNN)\n",
    "recall_KNN = recall_score(y_test,y_pred_KNN)"
   ],
   "metadata": {
    "collapsed": false
   }
  },
  {
   "cell_type": "markdown",
   "source": [],
   "metadata": {
    "collapsed": false
   }
  },
  {
   "cell_type": "code",
   "execution_count": 738,
   "outputs": [
    {
     "name": "stdout",
     "output_type": "stream",
     "text": [
      "KNN Model Evaluation:\n",
      "Accuracy:  0.9097826086956522\n",
      "Precision:  0.8892045454545454\n",
      "F1-Score:  0.8829337094499294\n",
      "recall_score : 0.876750700280112\n"
     ]
    }
   ],
   "source": [
    "#printing the evaluation metrics for the KNN model\n",
    "print(\"KNN Model Evaluation:\")\n",
    "print(\"Accuracy: \",accuracy_KNN)\n",
    "print(\"Precision: \",precision_KNN)\n",
    "print(\"F1-Score: \",f1score_KNN)\n",
    "print(\"recall_score :\",recall_KNN)\n"
   ],
   "metadata": {
    "collapsed": false
   }
  },
  {
   "cell_type": "markdown",
   "source": [
    "## Decision Tree Model Evaluation"
   ],
   "metadata": {
    "collapsed": false
   }
  },
  {
   "cell_type": "code",
   "execution_count": 739,
   "outputs": [],
   "source": [
    "# Create a decision tree classifier\n",
    "DT_classifier = DecisionTreeClassifier(random_state=42)\n",
    "\n",
    "# Train the model on the training data and Use the trained model to make predictions on the test data\n",
    "DT_classifier.fit(X_train, y_train)\n",
    "y_pred_DT = DT_classifier.predict(X_test)\n",
    "\n",
    "# Evaluating the model using various metrics\n",
    "DT_accuracy = accuracy_score(y_test,y_pred_DT)\n",
    "DT_precision = precision_score(y_test,y_pred_DT)\n",
    "f1_dt = f1_score(y_test,y_pred)\n",
    "recall_DT = recall_score(y_test,y_pred_DT)"
   ],
   "metadata": {
    "collapsed": false
   }
  },
  {
   "cell_type": "code",
   "execution_count": 740,
   "outputs": [
    {
     "name": "stdout",
     "output_type": "stream",
     "text": [
      "Decision tree model evaluation:\n",
      "Accuracy:  0.9032608695652173\n",
      "Precision:  0.8641304347826086\n",
      "F1 score:  0.8829337094499294\n",
      "DT_recall 0.8907563025210085\n"
     ]
    }
   ],
   "source": [
    "print(\"Decision tree model evaluation:\")\n",
    "print(\"Accuracy: \",DT_accuracy)\n",
    "print(\"Precision: \",DT_precision)\n",
    "print(\"F1 score: \",f1_dt)\n",
    "print(\"DT_recall\",recall_DT)"
   ],
   "metadata": {
    "collapsed": false
   }
  },
  {
   "cell_type": "markdown",
   "source": [
    "## Models Evaluation"
   ],
   "metadata": {
    "collapsed": false
   }
  },
  {
   "cell_type": "code",
   "execution_count": 741,
   "outputs": [
    {
     "name": "stdout",
     "output_type": "stream",
     "text": [
      "KNN f1 score : 0.8829337094499294\n",
      "KNN accuracy:  0.9097826086956522\n",
      "\n",
      "\n",
      "\n",
      "Decision Tree f1 score:  0.8717201166180759\n",
      "Decision Tree accuracy score : 0.9043478260869565\n"
     ]
    }
   ],
   "source": [
    "print(\"KNN f1 score :\",KNN_f1)\n",
    "print(\"KNN accuracy: \",accuracy)\n",
    "print(\"\\n\\n\")\n",
    "print(\"Decision Tree f1 score: \",DT_f1score)\n",
    "print(\"Decision Tree accuracy score :\",DT_Accuracy)"
   ],
   "metadata": {
    "collapsed": false
   }
  },
  {
   "cell_type": "code",
   "execution_count": 742,
   "outputs": [
    {
     "name": "stdout",
     "output_type": "stream",
     "text": [
      "              precision    recall  f1-score   support\n",
      "\n",
      "           0       0.75      0.89      0.81       563\n",
      "           1       0.75      0.53      0.62       357\n",
      "\n",
      "    accuracy                           0.75       920\n",
      "   macro avg       0.75      0.71      0.72       920\n",
      "weighted avg       0.75      0.75      0.74       920\n",
      "\n"
     ]
    },
    {
     "name": "stderr",
     "output_type": "stream",
     "text": [
      "/Users/sunerawanni/Desktop/Machine_CW_20210206/lib/python3.7/site-packages/sklearn/base.py:451: UserWarning: X does not have valid feature names, but DecisionTreeClassifier was fitted with feature names\n",
      "  \"X does not have valid feature names, but\"\n"
     ]
    }
   ],
   "source": [
    "from sklearn.metrics import classification_report\n",
    "\n",
    "y_pred = tree_map.predict(X_test)\n",
    "print(classification_report(y_test, y_pred))\n"
   ],
   "metadata": {
    "collapsed": false
   }
  },
  {
   "cell_type": "code",
   "execution_count": 742,
   "outputs": [],
   "source": [],
   "metadata": {
    "collapsed": false
   }
  },
  {
   "cell_type": "code",
   "execution_count": 742,
   "outputs": [],
   "source": [],
   "metadata": {
    "collapsed": false
   }
  }
 ],
 "metadata": {
  "kernelspec": {
   "display_name": "Python 3 (ipykernel)",
   "language": "python",
   "name": "python3"
  },
  "language_info": {
   "codemirror_mode": {
    "name": "ipython",
    "version": 3
   },
   "file_extension": ".py",
   "mimetype": "text/x-python",
   "name": "python",
   "nbconvert_exporter": "python",
   "pygments_lexer": "ipython3",
   "version": "3.7.4"
  }
 },
 "nbformat": 4,
 "nbformat_minor": 1
}
